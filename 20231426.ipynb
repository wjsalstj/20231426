{
  "nbformat": 4,
  "nbformat_minor": 0,
  "metadata": {
    "colab": {
      "provenance": [],
      "collapsed_sections": [
        "zEspH4pyu8q5",
        "1YBRCKA5veRo",
        "EPCwEcRfv1RJ"
      ]
    },
    "kernelspec": {
      "name": "python3",
      "display_name": "Python 3"
    },
    "language_info": {
      "name": "python"
    }
  },
  "cells": [
    {
      "cell_type": "markdown",
      "source": [
        "#1. LeetCode 225. Implement Stack using Queues"
      ],
      "metadata": {
        "id": "zEspH4pyu8q5"
      }
    },
    {
      "cell_type": "code",
      "execution_count": 3,
      "metadata": {
        "id": "WRep2XiAsJee"
      },
      "outputs": [],
      "source": [
        "class MyStack:\n",
        "    def __init__(self):\n",
        "        self.q1 = []\n",
        "        self.q2 = []\n",
        "\n",
        "    def push(self, x: int) -> None:\n",
        "        self.q2.append(x)\n",
        "        while self.q1:\n",
        "            self.q2.append(self.q1.pop(0))\n",
        "        self.q1, self.q2 = self.q2, self.q1\n",
        "\n",
        "    def pop(self) -> int:\n",
        "        return self.q1.pop(0)\n",
        "\n",
        "    def top(self) -> int:\n",
        "        return self.q1[0]\n",
        "\n",
        "    def empty(self) -> bool:\n",
        "        return len(self.q1) == 0\n"
      ]
    },
    {
      "cell_type": "markdown",
      "source": [
        "#2. LeetCode 232. Implement Queue using Stacks"
      ],
      "metadata": {
        "id": "1YBRCKA5veRo"
      }
    },
    {
      "cell_type": "code",
      "source": [
        "class MyQueue:\n",
        "    def __init__(self):\n",
        "        self.stack_in = []\n",
        "        self.stack_out = []\n",
        "\n",
        "    def push(self, x: int) -> None:\n",
        "        self.stack_in.append(x)\n",
        "\n",
        "    def pop(self) -> int:\n",
        "        self.peek()\n",
        "        return self.stack_out.pop()\n",
        "\n",
        "    def peek(self) -> int:\n",
        "        if not self.stack_out:\n",
        "            while self.stack_in:\n",
        "                self.stack_out.append(self.stack_in.pop())\n",
        "        return self.stack_out[-1]\n",
        "\n",
        "    def empty(self) -> bool:\n",
        "        return not self.stack_in and not self.stack_out"
      ],
      "metadata": {
        "id": "NMZVoXXEvjPU"
      },
      "execution_count": 2,
      "outputs": []
    },
    {
      "cell_type": "markdown",
      "source": [
        "#3. 교재의 큐 연습문제"
      ],
      "metadata": {
        "id": "EPCwEcRfv1RJ"
      }
    },
    {
      "cell_type": "markdown",
      "source": [
        "##문제 1"
      ],
      "metadata": {
        "id": "qRKKR__hv90K"
      }
    },
    {
      "cell_type": "code",
      "source": [
        "class ListQueue:\n",
        "    def __init__(self):\n",
        "        self.__queue = []\n",
        "\n",
        "    def enqueue(self, x):\n",
        "        self.__queue.insert(0, x)\n",
        "\n",
        "    def dequeue(self):\n",
        "        return self.__queue.pop()\n",
        "\n",
        "    def front(self):\n",
        "        if self.isEmpty():\n",
        "            return None\n",
        "        else:\n",
        "            return self.__queue[-1]\n",
        "\n",
        "    def isEmpty(self) -> bool:\n",
        "        return len(self.__queue) == 0\n",
        "\n",
        "    def dequeueAll(self):\n",
        "        self.__queue.clear()\n",
        "\n",
        "    def printQueue(self):\n",
        "        print(\"Queue from rear to front:\", end=' ')\n",
        "        for i in range(len(self.__queue)-1, -1, -1):\n",
        "            print(self.__queue[i], end=' ')\n",
        "        print()"
      ],
      "metadata": {
        "id": "uy_-VkdYv_V7"
      },
      "execution_count": null,
      "outputs": []
    },
    {
      "cell_type": "markdown",
      "source": [
        "##문제 2"
      ],
      "metadata": {
        "id": "pj5T5Bemwb6o"
      }
    },
    {
      "cell_type": "code",
      "source": [
        "from collections import deque\n",
        "\n",
        "def is_in_queue(char):\n",
        "    q = deque(['w', 's', 'W', 'S'])\n",
        "    return char in q\n",
        "\n",
        "print(is_in_queue('w'))\n",
        "print(is_in_queue('a'))"
      ],
      "metadata": {
        "id": "rOp5Zcn2wfcj"
      },
      "execution_count": null,
      "outputs": []
    },
    {
      "cell_type": "markdown",
      "source": [
        "##문제 3"
      ],
      "metadata": {
        "id": "xVgo17ElwhE2"
      }
    },
    {
      "cell_type": "code",
      "source": [
        "class Node:\n",
        "    def __init__(self, item):\n",
        "        self.item = item\n",
        "        self.next = None\n",
        "\n",
        "class LinkedQueue:\n",
        "    def __init__(self):\n",
        "        self.front = self.rear = None\n",
        "\n",
        "    def enqueue(self, item):\n",
        "        node = Node(item)\n",
        "        if self.rear:\n",
        "            self.rear.next = node\n",
        "        else:\n",
        "            self.front = node\n",
        "        self.rear = node\n",
        "\n",
        "    def __iter__(self):\n",
        "        cur = self.front\n",
        "        while cur:\n",
        "            yield cur.item\n",
        "            cur = cur.next\n",
        "\n",
        "def copy_linked_queue(a):\n",
        "    b = LinkedQueue()\n",
        "    for item in a:\n",
        "        b.enqueue(item)\n",
        "    return b"
      ],
      "metadata": {
        "id": "kRqfkhGHwjC8"
      },
      "execution_count": null,
      "outputs": []
    },
    {
      "cell_type": "markdown",
      "source": [
        "##문제 4"
      ],
      "metadata": {
        "id": "8mVxhhwy-YnP"
      }
    },
    {
      "cell_type": "code",
      "source": [
        "from collections import deque\n",
        "\n",
        "class StackUsingQueues:\n",
        "    def __init__(self):\n",
        "        self.q1 = deque()\n",
        "        self.q2 = deque()\n",
        "\n",
        "    def push(self, item):\n",
        "        self.q1.append(item)\n",
        "\n",
        "    def pop(self):\n",
        "        while len(self.q1) > 1:\n",
        "            self.q2.append(self.q1.popleft())\n",
        "        popped = self.q1.popleft()\n",
        "        self.q1, self.q2 = self.q2, self.q1\n",
        "        return popped"
      ],
      "metadata": {
        "id": "T1YvJX2I-bCf"
      },
      "execution_count": null,
      "outputs": []
    },
    {
      "cell_type": "markdown",
      "source": [
        "## 문제 5"
      ],
      "metadata": {
        "id": "kP4Zw0aO-dJE"
      }
    },
    {
      "cell_type": "code",
      "source": [
        "class QueueUsingStacks:\n",
        "    def __init__(self):\n",
        "        self.inbox = []\n",
        "        self.outbox = []\n",
        "\n",
        "    def enqueue(self, item):\n",
        "        self.inbox.append(item)\n",
        "\n",
        "    def dequeue(self):\n",
        "        if not self.outbox:\n",
        "            while self.inbox:\n",
        "                self.outbox.append(self.inbox.pop())\n",
        "        return self.outbox.pop()"
      ],
      "metadata": {
        "id": "KDwpN6IO-egp"
      },
      "execution_count": null,
      "outputs": []
    },
    {
      "cell_type": "markdown",
      "source": [
        "## 문제 6\n",
        "enqueue()는 append()로 O(1), dequeue()는 pop(0)으로 O(n)"
      ],
      "metadata": {
        "id": "BZU7IHPfABkJ"
      }
    },
    {
      "cell_type": "markdown",
      "source": [
        "## 문제 7\n",
        "enqueue()와 dequeue() 둘 다 O(1) 시간으로 처리 가능. 연결 리스의 끝에 삽입, 앞에서 삭제"
      ],
      "metadata": {
        "id": "3KshDbVTAfzL"
      }
    },
    {
      "cell_type": "markdown",
      "source": [
        "## 문제 8"
      ],
      "metadata": {
        "id": "goTj45_VAva6"
      }
    },
    {
      "cell_type": "code",
      "source": [
        "class Deque:\n",
        "    def __init__(self):\n",
        "        self.__deque = []\n",
        "\n",
        "    def addFront(self, x):\n",
        "        self.__deque.insert(0, x)\n",
        "\n",
        "    def addRear(self, x):\n",
        "        self.__deque.append(x)\n",
        "\n",
        "    def deleteFront(self):\n",
        "        if self.isEmpty():\n",
        "            return None\n",
        "        return self.__deque.pop(0)\n",
        "\n",
        "    def deleteRear(self):\n",
        "        if self.isEmpty():\n",
        "            return None\n",
        "        return self.__deque.pop()\n",
        "\n",
        "    def isEmpty(self) -> bool:\n",
        "        return len(self.__deque) == 0\n",
        "\n",
        "    def clear(self):\n",
        "        self.__deque.clear()\n",
        "\n",
        "    def printDeque(self):\n",
        "        print(\"Deque from front to rear:\", end=' ')\n",
        "        for item in self.__deque:\n",
        "            print(item, end=' ')\n",
        "        print()\n"
      ],
      "metadata": {
        "id": "g7PSUDBYAxXh"
      },
      "execution_count": null,
      "outputs": []
    }
  ]
}

import heapq

class KthLargest:

    def __init__(self, k: int, nums: list[int]):
        self.k = k
        self.heap = nums
        heapq.heapify(self.heap)  # 최소 힙 생성
        while len(self.heap) > k:
            heapq.heappop(self.heap)  # 가장 작은 수 제거하여 k개 유지

    def add(self, val: int) -> int:
        heapq.heappush(self.heap, val)  # 새 값 추가
        if len(self.heap) > self.k:
            heapq.heappop(self.heap)  # 가장 작은 수 제거
        return self.heap[0]  # k번째로 큰 수 (힙의 루트)
