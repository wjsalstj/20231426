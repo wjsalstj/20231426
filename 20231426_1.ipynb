{
  "cells": [],
  "metadata": {},
  "nbformat": 4,
  "nbformat_minor": 5
}

 "metadata": {
        "id": "KDwpN6IO-egp"
      },
      "execution_count": null,
      "outputs": []
    },
    {
      "cell_type": "markdown",
      "source": [
        "## 문제 6\n",
        "enqueue()는 append()로 O(1), dequeue()는 pop(0)으로 O(n)"
      ],
      "metadata": {
        "id": "BZU7IHPfABkJ"
      }
    },
    {
      "cell_type": "markdown",
      "source": [
        "## 문제 7\n",
        "enqueue()와 dequeue() 둘 다 O(1) 시간으로 처리 가능. 연결 리스의 끝에 삽입, 앞에서 삭제"
      ],
      "metadata": {
        "id": "3KshDbVTAfzL"
      }
    },
    {
      "cell_type": "markdown",
      "source": [
        "## 문제 8"
      ],
      "metadata": {
        "id": "goTj45_VAva6"
      }
    },
    {
      "cell_type": "code",
      "source": [
        "class Deque:\n",
        "    def __init__(self):\n",
        "        self.__deque = []\n",
        "\n",
        "    def addFront(self, x):\n",
        "        self.__deque.insert(0, x)\n",
        "\n",
